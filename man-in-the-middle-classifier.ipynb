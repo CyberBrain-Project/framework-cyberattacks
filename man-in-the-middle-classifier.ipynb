{
 "cells": [
  {
   "cell_type": "code",
   "execution_count": 1,
   "id": "0112569e",
   "metadata": {},
   "outputs": [],
   "source": [
    "import pandas as pd\n",
    "import numpy as np\n",
    "from sklearn.model_selection import train_test_split\n",
    "from sklearn.ensemble import RandomForestClassifier\n",
    "from sklearn.metrics import classification_report\n",
    "import matplotlib.pyplot as plt \n",
    "import seaborn as sns "
   ]
  },
  {
   "cell_type": "markdown",
   "id": "2650683c",
   "metadata": {},
   "source": [
    "### Prepare the Data"
   ]
  },
  {
   "cell_type": "code",
   "execution_count": 28,
   "id": "86fef81f",
   "metadata": {},
   "outputs": [],
   "source": [
    "df_ataque = pd.read_csv(\"psutil-stats-con-ataque.csv\")\n",
    "df_sin_ataque = pd.read_csv(\"psutil-stats-sin-ataque.csv\")"
   ]
  },
  {
   "cell_type": "code",
   "execution_count": 29,
   "id": "50bc7af2",
   "metadata": {},
   "outputs": [
    {
     "data": {
      "text/plain": [
       "(1102, 17)"
      ]
     },
     "execution_count": 29,
     "metadata": {},
     "output_type": "execute_result"
    }
   ],
   "source": [
    "df_ataque.shape"
   ]
  },
  {
   "cell_type": "code",
   "execution_count": 30,
   "id": "85598c69",
   "metadata": {},
   "outputs": [
    {
     "data": {
      "text/plain": [
       "(972, 17)"
      ]
     },
     "execution_count": 30,
     "metadata": {},
     "output_type": "execute_result"
    }
   ],
   "source": [
    "df_sin_ataque.shape"
   ]
  },
  {
   "cell_type": "code",
   "execution_count": 31,
   "id": "a73837a0",
   "metadata": {},
   "outputs": [],
   "source": [
    "df_sin_ataque = df_sin_ataque.head(972)"
   ]
  },
  {
   "cell_type": "code",
   "execution_count": 32,
   "id": "1df5c4d2",
   "metadata": {},
   "outputs": [],
   "source": [
    "df_ataque = df_ataque.drop(columns=['Timestamp'])\n",
    "df_sin_ataque = df_sin_ataque.drop(columns=['Timestamp'])\n",
    "df_sin_ataque = df_sin_ataque.iloc[1:]\n",
    "df_ataque = df_ataque.iloc[1:]"
   ]
  },
  {
   "cell_type": "code",
   "execution_count": 33,
   "id": "e5b58bd7",
   "metadata": {},
   "outputs": [],
   "source": [
    "df_sin_ataque['Target'] = 0\n",
    "df_ataque['Target'] = 1"
   ]
  },
  {
   "cell_type": "code",
   "execution_count": 35,
   "id": "6f2c0eb2",
   "metadata": {},
   "outputs": [],
   "source": [
    "# Concat attack and non-attack datasets\n",
    "X = pd.concat([df_sin_ataque, df_ataque], axis=0)"
   ]
  },
  {
   "cell_type": "markdown",
   "id": "f98a559e",
   "metadata": {},
   "source": [
    "### Remove Outliers"
   ]
  },
  {
   "cell_type": "code",
   "execution_count": 37,
   "id": "c3de9a94",
   "metadata": {},
   "outputs": [],
   "source": [
    "def remove_outliers(df):\n",
    "    \n",
    "    Q1 = df.quantile(0.25)\n",
    "    Q3 = df.quantile(0.75)\n",
    "    IQR = Q3 - Q1\n",
    "    outliers = (df < (Q1 - 1.5 * IQR)) | (df > (Q3 + 1.5 * IQR))\n",
    "    df_processed = df.mask(outliers)\n",
    "    df_processed = df_processed.dropna()\n",
    "    \n",
    "    return df_processed\n",
    "    "
   ]
  },
  {
   "cell_type": "code",
   "execution_count": 38,
   "id": "ba715908",
   "metadata": {},
   "outputs": [],
   "source": [
    "X = remove_outliers(X)"
   ]
  },
  {
   "cell_type": "markdown",
   "id": "6af9926e",
   "metadata": {},
   "source": [
    "### Data Splitting"
   ]
  },
  {
   "cell_type": "code",
   "execution_count": 41,
   "id": "67ad466c",
   "metadata": {},
   "outputs": [],
   "source": [
    "y = X['Target']"
   ]
  },
  {
   "cell_type": "code",
   "execution_count": 42,
   "id": "61c80bf2",
   "metadata": {},
   "outputs": [],
   "source": [
    "X = X.drop(columns=['Target'])"
   ]
  },
  {
   "cell_type": "code",
   "execution_count": 43,
   "id": "38b8650d",
   "metadata": {},
   "outputs": [],
   "source": [
    "X_train, X_test, y_train, y_test = train_test_split(X,y,test_size=0.2,random_state=42)"
   ]
  },
  {
   "cell_type": "markdown",
   "id": "800ecfd7",
   "metadata": {},
   "source": [
    "### Model training"
   ]
  },
  {
   "cell_type": "code",
   "execution_count": 54,
   "id": "dd28c9ed",
   "metadata": {},
   "outputs": [],
   "source": [
    "from sklearn.pipeline import Pipeline\n",
    "from sklearn.preprocessing import StandardScaler"
   ]
  },
  {
   "cell_type": "code",
   "execution_count": 55,
   "id": "6c8528da",
   "metadata": {},
   "outputs": [],
   "source": [
    "clf = Pipeline(\n",
    "    [\n",
    "        (\"standard\", StandardScaler()),\n",
    "        (\"classifier\", RandomForestClassifier(random_state=42)),\n",
    "    ]\n",
    ")"
   ]
  },
  {
   "cell_type": "code",
   "execution_count": 56,
   "id": "ebf6a20e",
   "metadata": {},
   "outputs": [
    {
     "data": {
      "text/plain": [
       "Pipeline(steps=[('standard', StandardScaler()),\n",
       "                ('classifier', RandomForestClassifier(random_state=42))])"
      ]
     },
     "execution_count": 56,
     "metadata": {},
     "output_type": "execute_result"
    }
   ],
   "source": [
    "clf.fit(X_train,y_train)"
   ]
  },
  {
   "cell_type": "code",
   "execution_count": 57,
   "id": "8c7ced9a",
   "metadata": {},
   "outputs": [],
   "source": [
    "prediction = clf.predict(X_test)"
   ]
  },
  {
   "cell_type": "code",
   "execution_count": 58,
   "id": "1721433d",
   "metadata": {},
   "outputs": [
    {
     "name": "stdout",
     "output_type": "stream",
     "text": [
      "              precision    recall  f1-score   support\n",
      "\n",
      "           0       1.00      1.00      1.00       110\n",
      "           1       1.00      1.00      1.00       155\n",
      "\n",
      "    accuracy                           1.00       265\n",
      "   macro avg       1.00      1.00      1.00       265\n",
      "weighted avg       1.00      1.00      1.00       265\n",
      "\n"
     ]
    }
   ],
   "source": [
    "print(classification_report(y_test, prediction))"
   ]
  },
  {
   "cell_type": "markdown",
   "id": "c6803452",
   "metadata": {},
   "source": [
    "### Feature Importance"
   ]
  },
  {
   "cell_type": "code",
   "execution_count": 60,
   "id": "19ee3840",
   "metadata": {},
   "outputs": [],
   "source": [
    "feature_importance = np.array(clf.named_steps[\"classifier\"].feature_importances_)"
   ]
  },
  {
   "cell_type": "code",
   "execution_count": 61,
   "id": "e1818b40",
   "metadata": {},
   "outputs": [],
   "source": [
    "features = np.array(df_ataque.columns)[0:16]"
   ]
  },
  {
   "cell_type": "code",
   "execution_count": 62,
   "id": "8b3de0a6",
   "metadata": {},
   "outputs": [],
   "source": [
    "def plot_feature_importance(importance,names,model_type):\n",
    "\n",
    "    #Create arrays from feature importance and feature names\n",
    "    feature_importance = np.array(importance)\n",
    "    feature_names = np.array(names)\n",
    "\n",
    "    #Create a DataFrame using a Dictionary\n",
    "    data={'feature_names':feature_names,'feature_importance':feature_importance}\n",
    "    fi_df = pd.DataFrame(data)\n",
    "\n",
    "    #Sort the DataFrame in order decreasing feature importance\n",
    "    fi_df.sort_values(by=['feature_importance'], ascending=False,inplace=True)\n",
    "\n",
    "    #Define size of bar plot\n",
    "    plt.figure(figsize=(10,8))\n",
    "    #Plot Searborn bar chart\n",
    "    sns.barplot(x=fi_df['feature_importance'], y=fi_df['feature_names'])\n",
    "    #Add chart labels\n",
    "    plt.title(model_type + ' FEATURE IMPORTANCE')\n",
    "    plt.xlabel('FEATURE IMPORTANCE')\n",
    "    plt.ylabel('FEATURE NAMES')"
   ]
  },
  {
   "cell_type": "code",
   "execution_count": 64,
   "id": "6002482e",
   "metadata": {
    "scrolled": true
   },
   "outputs": [
    {
     "data": {
      "image/png": "[encoded data removed]",
      "text/plain": [
       "<Figure size 720x576 with 1 Axes>"
      ]
     },
     "metadata": {
      "needs_background": "light"
     },
     "output_type": "display_data"
    }
   ],
   "source": [
    "plot_feature_importance(clf.named_steps[\"classifier\"].feature_importances_,df_ataque.columns[0:16],'RANDOM FOREST')"
   ]
  },
  {
   "cell_type": "markdown",
   "id": "78e607b1",
   "metadata": {},
   "source": [
    "### Exporting the model"
   ]
  },
  {
   "cell_type": "code",
   "execution_count": 22,
   "id": "657b2d1f",
   "metadata": {},
   "outputs": [
    {
     "data": {
      "text/plain": [
       "['man-in-the-middle-detection.pkl']"
      ]
     },
     "execution_count": 22,
     "metadata": {},
     "output_type": "execute_result"
    }
   ],
   "source": [
    "import joblib\n",
    "\n",
    "joblib.dump(clf, 'man-in-the-middle-detection.pkl')"
   ]
  },
  {
   "cell_type": "code",
   "execution_count": 23,
   "id": "eb07b882",
   "metadata": {},
   "outputs": [],
   "source": [
    "clf_prueba = joblib.load('man-in-the-middle-detection.pkl')\n",
    "prediccion_prueba = clf_prueba.predict(X_test)"
   ]
  },
  {
   "cell_type": "code",
   "execution_count": null,
   "id": "a6967b31",
   "metadata": {},
   "outputs": [],
   "source": []
  }
 ],
 "metadata": {
  "kernelspec": {
   "display_name": "Python 3 (ipykernel)",
   "language": "python",
   "name": "python3"
  },
  "language_info": {
   "codemirror_mode": {
    "name": "ipython",
    "version": 3
   },
   "file_extension": ".py",
   "mimetype": "text/x-python",
   "name": "python",
   "nbconvert_exporter": "python",
   "pygments_lexer": "ipython3",
   "version": "3.9.13"
  }
 },
 "nbformat": 4,
 "nbformat_minor": 5
}
