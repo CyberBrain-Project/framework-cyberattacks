{
 "cells": [
  {
   "cell_type": "markdown",
   "source": [
    "# CyberBrain: Cybersecurity in BCI for Advanced Driver Assistance\n",
    "## Milestone MS3: Framework to detect and measure the cyberattacks impact.\n",
    "#### University of Murcia, Spain"
   ],
   "metadata": {
    "collapsed": false,
    "pycharm": {
     "name": "#%% md\n"
    }
   }
  },
  {
   "cell_type": "code",
   "execution_count": 46,
   "outputs": [],
   "source": [
    "import pickle5 as pickle\n",
    "import mne\n",
    "import numpy as np\n",
    "import pandas as pd"
   ],
   "metadata": {
    "collapsed": false,
    "pycharm": {
     "name": "#%%\n"
    }
   }
  },
  {
   "cell_type": "markdown",
   "source": [
    "## Data acquisition"
   ],
   "metadata": {
    "collapsed": false,
    "pycharm": {
     "name": "#%% md\n"
    }
   }
  },
  {
   "cell_type": "code",
   "execution_count": 121,
   "outputs": [
    {
     "name": "stdout",
     "output_type": "stream",
     "text": [
      "zsh:1: no matches found: https://univmurcia-my.sharepoint.com/:u:/g/personal/enriquetomas_um_es/EUqf9NlxBC9HudvMJ4FUvJMBcU4ngGDug5bobNka_p9FwQ?e=Rx1lc3\r\n"
     ]
    }
   ],
   "source": [
    "!wget -O dataset/p300-umu https://univmurcia-my.sharepoint.com/:u:/g/personal/enriquetomas_um_es/EUqf9NlxBC9HudvMJ4FUvJMBcU4ngGDug5bobNka_p9FwQ?e=Rx1lc3"
   ],
   "metadata": {
    "collapsed": false,
    "pycharm": {
     "name": "#%%\n"
    }
   }
  },
  {
   "cell_type": "code",
   "execution_count": 87,
   "outputs": [],
   "source": [
    "dataset=\"dataset/p300-umu\""
   ],
   "metadata": {
    "collapsed": false,
    "pycharm": {
     "name": "#%%\n"
    }
   }
  },
  {
   "cell_type": "code",
   "execution_count": 88,
   "outputs": [],
   "source": [
    "\n",
    "with open(dataset, 'rb') as file:\n",
    "    data = pickle.load(file)"
   ],
   "metadata": {
    "collapsed": false,
    "pycharm": {
     "name": "#%%\n"
    }
   }
  },
  {
   "cell_type": "markdown",
   "source": [
    "## Data processing"
   ],
   "metadata": {
    "collapsed": false,
    "pycharm": {
     "name": "#%% md\n"
    }
   }
  },
  {
   "cell_type": "code",
   "execution_count": 89,
   "outputs": [],
   "source": [
    "subjects = {}\n",
    "\n",
    "for i, d in enumerate(data):\n",
    "    subjects[f'Subject {i}'] = d"
   ],
   "metadata": {
    "collapsed": false,
    "pycharm": {
     "name": "#%%\n"
    }
   }
  },
  {
   "cell_type": "code",
   "execution_count": 90,
   "outputs": [
    {
     "data": {
      "text/plain": "{'Subject 0': <EpochsArray |  3982 events (all good), 0 - 0.585938 sec, baseline off, ~37.0 MB, data loaded,\n  'neg': 3413\n  'pos': 569>,\n 'Subject 1': <EpochsArray |  3916 events (all good), 0 - 0.585938 sec, baseline off, ~36.4 MB, data loaded,\n  'neg': 3362\n  'pos': 554>,\n 'Subject 2': <EpochsArray |  2053 events (all good), 0 - 0.585938 sec, baseline off, ~19.1 MB, data loaded,\n  'neg': 1760\n  'pos': 293>,\n 'Subject 3': <EpochsArray |  6516 events (all good), 0 - 0.585938 sec, baseline off, ~60.5 MB, data loaded,\n  'neg': 5589\n  'pos': 927>,\n 'Subject 4': <EpochsArray |  3396 events (all good), 0 - 0.585938 sec, baseline off, ~31.5 MB, data loaded,\n  'neg': 2912\n  'pos': 484>,\n 'Subject 5': <EpochsArray |  3975 events (all good), 0 - 0.585938 sec, baseline off, ~36.9 MB, data loaded,\n  'neg': 3404\n  'pos': 571>,\n 'Subject 6': <EpochsArray |  1163 events (all good), 0 - 0.585938 sec, baseline off, ~10.8 MB, data loaded,\n  'neg': 871\n  'pos': 292>,\n 'Subject 7': <EpochsArray |  1174 events (all good), 0 - 0.585938 sec, baseline off, ~10.9 MB, data loaded,\n  'neg': 1006\n  'pos': 168>,\n 'Subject 8': <EpochsArray |  4139 events (all good), 0 - 0.585938 sec, baseline off, ~38.4 MB, data loaded,\n  'neg': 3549\n  'pos': 590>,\n 'Subject 9': <EpochsArray |  4047 events (all good), 0 - 0.585938 sec, baseline off, ~37.6 MB, data loaded,\n  'neg': 3466\n  'pos': 581>,\n 'Subject 10': <EpochsArray |  4060 events (all good), 0 - 0.585938 sec, baseline off, ~37.7 MB, data loaded,\n  'neg': 3479\n  'pos': 581>,\n 'Subject 11': <EpochsArray |  4067 events (all good), 0 - 0.585938 sec, baseline off, ~37.8 MB, data loaded,\n  'neg': 3487\n  'pos': 580>,\n 'Subject 12': <EpochsArray |  4083 events (all good), 0 - 0.585938 sec, baseline off, ~37.9 MB, data loaded,\n  'neg': 3503\n  'pos': 580>,\n 'Subject 13': <EpochsArray |  4024 events (all good), 0 - 0.585938 sec, baseline off, ~37.4 MB, data loaded,\n  'neg': 3449\n  'pos': 575>,\n 'Subject 14': <EpochsArray |  2263 events (all good), 0 - 0.585938 sec, baseline off, ~21.0 MB, data loaded,\n  'neg': 1953\n  'pos': 310>,\n 'Subject 15': <EpochsArray |  3809 events (all good), 0 - 0.585938 sec, baseline off, ~35.4 MB, data loaded,\n  'neg': 3259\n  'pos': 550>}"
     },
     "execution_count": 90,
     "metadata": {},
     "output_type": "execute_result"
    }
   ],
   "source": [
    "subjects"
   ],
   "metadata": {
    "collapsed": false,
    "pycharm": {
     "name": "#%%\n"
    }
   }
  },
  {
   "cell_type": "code",
   "execution_count": 103,
   "outputs": [],
   "source": [
    "target = subjects['Subject 1']['pos']\n",
    "nonTarget = subjects['Subject 1']['neg']"
   ],
   "metadata": {
    "collapsed": false,
    "pycharm": {
     "name": "#%%\n"
    }
   }
  },
  {
   "cell_type": "code",
   "execution_count": 104,
   "outputs": [],
   "source": [
    "target_data = subjects['Subject 1']['pos'].get_data()\n",
    "nontarget_data = subjects['Subject 1']['neg'].get_data()\n"
   ],
   "metadata": {
    "collapsed": false,
    "pycharm": {
     "name": "#%%\n"
    }
   }
  },
  {
   "cell_type": "code",
   "execution_count": 105,
   "outputs": [],
   "source": [
    "nontarget_data = nontarget_data[:593][:][:]"
   ],
   "metadata": {
    "collapsed": false,
    "pycharm": {
     "name": "#%%\n"
    }
   }
  },
  {
   "cell_type": "code",
   "execution_count": 106,
   "outputs": [],
   "source": [
    "X, Y = [], []\n",
    "\n",
    "X = np.concatenate([target_data, nontarget_data])\n",
    "Y = np.concatenate([np.ones(target_data.shape[0]), np.zeros(nontarget_data.shape[0])])"
   ],
   "metadata": {
    "collapsed": false,
    "pycharm": {
     "name": "#%%\n"
    }
   }
  },
  {
   "cell_type": "code",
   "execution_count": 95,
   "outputs": [
    {
     "data": {
      "text/plain": "(1147,)"
     },
     "execution_count": 95,
     "metadata": {},
     "output_type": "execute_result"
    }
   ],
   "source": [
    "Y.shape"
   ],
   "metadata": {
    "collapsed": false,
    "pycharm": {
     "name": "#%%\n"
    }
   }
  },
  {
   "cell_type": "markdown",
   "source": [
    "## Data classification"
   ],
   "metadata": {
    "collapsed": false,
    "pycharm": {
     "name": "#%% md\n"
    }
   }
  },
  {
   "cell_type": "code",
   "execution_count": 64,
   "outputs": [],
   "source": [
    "from sklearn.model_selection import train_test_split\n",
    "\n",
    "# Split dataset in training and testing\n",
    "X_train, X_test, y_train, y_test = train_test_split(X,Y, test_size=0.10, random_state=42,shuffle=True)"
   ],
   "metadata": {
    "collapsed": false,
    "pycharm": {
     "name": "#%%\n"
    }
   }
  },
  {
   "cell_type": "code",
   "execution_count": 65,
   "outputs": [
    {
     "data": {
      "text/plain": "((1032, 16, 76), (115, 16, 76))"
     },
     "execution_count": 65,
     "metadata": {},
     "output_type": "execute_result"
    }
   ],
   "source": [
    "X_train.shape, X_test.shape"
   ],
   "metadata": {
    "collapsed": false,
    "pycharm": {
     "name": "#%%\n"
    }
   }
  },
  {
   "cell_type": "code",
   "execution_count": 66,
   "outputs": [
    {
     "data": {
      "text/plain": "((1032,), (115,))"
     },
     "execution_count": 66,
     "metadata": {},
     "output_type": "execute_result"
    }
   ],
   "source": [
    "y_train.shape, y_test.shape"
   ],
   "metadata": {
    "collapsed": false,
    "pycharm": {
     "name": "#%%\n"
    }
   }
  },
  {
   "cell_type": "code",
   "execution_count": 67,
   "outputs": [
    {
     "data": {
      "text/plain": "((1147, 16, 76), (1147,))"
     },
     "execution_count": 67,
     "metadata": {},
     "output_type": "execute_result"
    }
   ],
   "source": [
    "X.shape, Y.shape"
   ],
   "metadata": {
    "collapsed": false,
    "pycharm": {
     "name": "#%%\n"
    }
   }
  },
  {
   "cell_type": "code",
   "execution_count": 96,
   "outputs": [
    {
     "name": "stdout",
     "output_type": "stream",
     "text": [
      "              precision    recall  f1-score   support\n",
      "\n",
      "    NoTarget       0.78      0.77      0.78       593\n",
      "      Target       0.76      0.76      0.76       554\n",
      "\n",
      "    accuracy                           0.77      1147\n",
      "   macro avg       0.77      0.77      0.77      1147\n",
      "weighted avg       0.77      0.77      0.77      1147\n",
      "\n"
     ]
    }
   ],
   "source": [
    "from sklearn.model_selection import StratifiedKFold\n",
    "from sklearn.linear_model import LogisticRegression\n",
    "from mne.decoding import Vectorizer\n",
    "from sklearn.pipeline import make_pipeline\n",
    "from sklearn.svm import SVC\n",
    "from sklearn.preprocessing import MinMaxScaler, StandardScaler\n",
    "from sklearn.metrics import classification_report\n",
    "\n",
    "# Instancia validador cruzado\n",
    "cv = StratifiedKFold(n_splits=10, shuffle=True, random_state=42)\n",
    "\n",
    "# Instancia clasificador\n",
    "clf = make_pipeline(Vectorizer(), StandardScaler(), LogisticRegression(solver='liblinear', C=1, class_weight=\"balanced\"))\n",
    "\n",
    "# Proceso de validación cruzada\n",
    "preds = np.empty(len(Y))\n",
    "for train, test in cv.split(X, Y):\n",
    "    clf.fit(X[train], Y[train]) # ajustar\n",
    "    preds[test] = clf.predict(X[test]) #\n",
    "\n",
    "# Info del proceso\n",
    "target_names = ['NoTarget', 'Target']\n",
    "report = classification_report(Y, preds, target_names=target_names)\n",
    "print(report)"
   ],
   "metadata": {
    "collapsed": false,
    "pycharm": {
     "name": "#%%\n"
    }
   }
  },
  {
   "cell_type": "code",
   "execution_count": 144,
   "outputs": [
    {
     "ename": "KeyboardInterrupt",
     "evalue": "",
     "output_type": "error",
     "traceback": [
      "\u001B[0;31m---------------------------------------------------------------------------\u001B[0m",
      "\u001B[0;31mKeyboardInterrupt\u001B[0m                         Traceback (most recent call last)",
      "Input \u001B[0;32mIn [144]\u001B[0m, in \u001B[0;36m<cell line: 15>\u001B[0;34m()\u001B[0m\n\u001B[1;32m     14\u001B[0m preds \u001B[38;5;241m=\u001B[39m np\u001B[38;5;241m.\u001B[39mempty(\u001B[38;5;28mlen\u001B[39m(Y))\n\u001B[1;32m     15\u001B[0m \u001B[38;5;28;01mfor\u001B[39;00m train, test \u001B[38;5;129;01min\u001B[39;00m cv\u001B[38;5;241m.\u001B[39msplit(d2_train_dataset, Y):\n\u001B[0;32m---> 16\u001B[0m     \u001B[43mclf\u001B[49m\u001B[38;5;241;43m.\u001B[39;49m\u001B[43mfit\u001B[49m\u001B[43m(\u001B[49m\u001B[43md2_train_dataset\u001B[49m\u001B[43m[\u001B[49m\u001B[43mtrain\u001B[49m\u001B[43m]\u001B[49m\u001B[43m,\u001B[49m\u001B[43m \u001B[49m\u001B[43mY\u001B[49m\u001B[43m[\u001B[49m\u001B[43mtrain\u001B[49m\u001B[43m]\u001B[49m\u001B[43m)\u001B[49m \u001B[38;5;66;03m# ajustar\u001B[39;00m\n\u001B[1;32m     17\u001B[0m     preds[test] \u001B[38;5;241m=\u001B[39m clf\u001B[38;5;241m.\u001B[39mpredict(d2_train_dataset[test]) \u001B[38;5;66;03m#\u001B[39;00m\n\u001B[1;32m     19\u001B[0m \u001B[38;5;66;03m# Info del proceso\u001B[39;00m\n",
      "File \u001B[0;32m~/miniforge3/envs/phd-workspace/lib/python3.9/site-packages/sklearn/model_selection/_search.py:891\u001B[0m, in \u001B[0;36mBaseSearchCV.fit\u001B[0;34m(self, X, y, groups, **fit_params)\u001B[0m\n\u001B[1;32m    885\u001B[0m     results \u001B[38;5;241m=\u001B[39m \u001B[38;5;28mself\u001B[39m\u001B[38;5;241m.\u001B[39m_format_results(\n\u001B[1;32m    886\u001B[0m         all_candidate_params, n_splits, all_out, all_more_results\n\u001B[1;32m    887\u001B[0m     )\n\u001B[1;32m    889\u001B[0m     \u001B[38;5;28;01mreturn\u001B[39;00m results\n\u001B[0;32m--> 891\u001B[0m \u001B[38;5;28;43mself\u001B[39;49m\u001B[38;5;241;43m.\u001B[39;49m\u001B[43m_run_search\u001B[49m\u001B[43m(\u001B[49m\u001B[43mevaluate_candidates\u001B[49m\u001B[43m)\u001B[49m\n\u001B[1;32m    893\u001B[0m \u001B[38;5;66;03m# multimetric is determined here because in the case of a callable\u001B[39;00m\n\u001B[1;32m    894\u001B[0m \u001B[38;5;66;03m# self.scoring the return type is only known after calling\u001B[39;00m\n\u001B[1;32m    895\u001B[0m first_test_score \u001B[38;5;241m=\u001B[39m all_out[\u001B[38;5;241m0\u001B[39m][\u001B[38;5;124m\"\u001B[39m\u001B[38;5;124mtest_scores\u001B[39m\u001B[38;5;124m\"\u001B[39m]\n",
      "File \u001B[0;32m~/miniforge3/envs/phd-workspace/lib/python3.9/site-packages/sklearn/model_selection/_search.py:1392\u001B[0m, in \u001B[0;36mGridSearchCV._run_search\u001B[0;34m(self, evaluate_candidates)\u001B[0m\n\u001B[1;32m   1390\u001B[0m \u001B[38;5;28;01mdef\u001B[39;00m \u001B[38;5;21m_run_search\u001B[39m(\u001B[38;5;28mself\u001B[39m, evaluate_candidates):\n\u001B[1;32m   1391\u001B[0m     \u001B[38;5;124;03m\"\"\"Search all candidates in param_grid\"\"\"\u001B[39;00m\n\u001B[0;32m-> 1392\u001B[0m     \u001B[43mevaluate_candidates\u001B[49m\u001B[43m(\u001B[49m\u001B[43mParameterGrid\u001B[49m\u001B[43m(\u001B[49m\u001B[38;5;28;43mself\u001B[39;49m\u001B[38;5;241;43m.\u001B[39;49m\u001B[43mparam_grid\u001B[49m\u001B[43m)\u001B[49m\u001B[43m)\u001B[49m\n",
      "File \u001B[0;32m~/miniforge3/envs/phd-workspace/lib/python3.9/site-packages/sklearn/model_selection/_search.py:838\u001B[0m, in \u001B[0;36mBaseSearchCV.fit.<locals>.evaluate_candidates\u001B[0;34m(candidate_params, cv, more_results)\u001B[0m\n\u001B[1;32m    830\u001B[0m \u001B[38;5;28;01mif\u001B[39;00m \u001B[38;5;28mself\u001B[39m\u001B[38;5;241m.\u001B[39mverbose \u001B[38;5;241m>\u001B[39m \u001B[38;5;241m0\u001B[39m:\n\u001B[1;32m    831\u001B[0m     \u001B[38;5;28mprint\u001B[39m(\n\u001B[1;32m    832\u001B[0m         \u001B[38;5;124m\"\u001B[39m\u001B[38;5;124mFitting \u001B[39m\u001B[38;5;132;01m{0}\u001B[39;00m\u001B[38;5;124m folds for each of \u001B[39m\u001B[38;5;132;01m{1}\u001B[39;00m\u001B[38;5;124m candidates,\u001B[39m\u001B[38;5;124m\"\u001B[39m\n\u001B[1;32m    833\u001B[0m         \u001B[38;5;124m\"\u001B[39m\u001B[38;5;124m totalling \u001B[39m\u001B[38;5;132;01m{2}\u001B[39;00m\u001B[38;5;124m fits\u001B[39m\u001B[38;5;124m\"\u001B[39m\u001B[38;5;241m.\u001B[39mformat(\n\u001B[1;32m    834\u001B[0m             n_splits, n_candidates, n_candidates \u001B[38;5;241m*\u001B[39m n_splits\n\u001B[1;32m    835\u001B[0m         )\n\u001B[1;32m    836\u001B[0m     )\n\u001B[0;32m--> 838\u001B[0m out \u001B[38;5;241m=\u001B[39m \u001B[43mparallel\u001B[49m\u001B[43m(\u001B[49m\n\u001B[1;32m    839\u001B[0m \u001B[43m    \u001B[49m\u001B[43mdelayed\u001B[49m\u001B[43m(\u001B[49m\u001B[43m_fit_and_score\u001B[49m\u001B[43m)\u001B[49m\u001B[43m(\u001B[49m\n\u001B[1;32m    840\u001B[0m \u001B[43m        \u001B[49m\u001B[43mclone\u001B[49m\u001B[43m(\u001B[49m\u001B[43mbase_estimator\u001B[49m\u001B[43m)\u001B[49m\u001B[43m,\u001B[49m\n\u001B[1;32m    841\u001B[0m \u001B[43m        \u001B[49m\u001B[43mX\u001B[49m\u001B[43m,\u001B[49m\n\u001B[1;32m    842\u001B[0m \u001B[43m        \u001B[49m\u001B[43my\u001B[49m\u001B[43m,\u001B[49m\n\u001B[1;32m    843\u001B[0m \u001B[43m        \u001B[49m\u001B[43mtrain\u001B[49m\u001B[38;5;241;43m=\u001B[39;49m\u001B[43mtrain\u001B[49m\u001B[43m,\u001B[49m\n\u001B[1;32m    844\u001B[0m \u001B[43m        \u001B[49m\u001B[43mtest\u001B[49m\u001B[38;5;241;43m=\u001B[39;49m\u001B[43mtest\u001B[49m\u001B[43m,\u001B[49m\n\u001B[1;32m    845\u001B[0m \u001B[43m        \u001B[49m\u001B[43mparameters\u001B[49m\u001B[38;5;241;43m=\u001B[39;49m\u001B[43mparameters\u001B[49m\u001B[43m,\u001B[49m\n\u001B[1;32m    846\u001B[0m \u001B[43m        \u001B[49m\u001B[43msplit_progress\u001B[49m\u001B[38;5;241;43m=\u001B[39;49m\u001B[43m(\u001B[49m\u001B[43msplit_idx\u001B[49m\u001B[43m,\u001B[49m\u001B[43m \u001B[49m\u001B[43mn_splits\u001B[49m\u001B[43m)\u001B[49m\u001B[43m,\u001B[49m\n\u001B[1;32m    847\u001B[0m \u001B[43m        \u001B[49m\u001B[43mcandidate_progress\u001B[49m\u001B[38;5;241;43m=\u001B[39;49m\u001B[43m(\u001B[49m\u001B[43mcand_idx\u001B[49m\u001B[43m,\u001B[49m\u001B[43m \u001B[49m\u001B[43mn_candidates\u001B[49m\u001B[43m)\u001B[49m\u001B[43m,\u001B[49m\n\u001B[1;32m    848\u001B[0m \u001B[43m        \u001B[49m\u001B[38;5;241;43m*\u001B[39;49m\u001B[38;5;241;43m*\u001B[39;49m\u001B[43mfit_and_score_kwargs\u001B[49m\u001B[43m,\u001B[49m\n\u001B[1;32m    849\u001B[0m \u001B[43m    \u001B[49m\u001B[43m)\u001B[49m\n\u001B[1;32m    850\u001B[0m \u001B[43m    \u001B[49m\u001B[38;5;28;43;01mfor\u001B[39;49;00m\u001B[43m \u001B[49m\u001B[43m(\u001B[49m\u001B[43mcand_idx\u001B[49m\u001B[43m,\u001B[49m\u001B[43m \u001B[49m\u001B[43mparameters\u001B[49m\u001B[43m)\u001B[49m\u001B[43m,\u001B[49m\u001B[43m \u001B[49m\u001B[43m(\u001B[49m\u001B[43msplit_idx\u001B[49m\u001B[43m,\u001B[49m\u001B[43m \u001B[49m\u001B[43m(\u001B[49m\u001B[43mtrain\u001B[49m\u001B[43m,\u001B[49m\u001B[43m \u001B[49m\u001B[43mtest\u001B[49m\u001B[43m)\u001B[49m\u001B[43m)\u001B[49m\u001B[43m \u001B[49m\u001B[38;5;129;43;01min\u001B[39;49;00m\u001B[43m \u001B[49m\u001B[43mproduct\u001B[49m\u001B[43m(\u001B[49m\n\u001B[1;32m    851\u001B[0m \u001B[43m        \u001B[49m\u001B[38;5;28;43menumerate\u001B[39;49m\u001B[43m(\u001B[49m\u001B[43mcandidate_params\u001B[49m\u001B[43m)\u001B[49m\u001B[43m,\u001B[49m\u001B[43m \u001B[49m\u001B[38;5;28;43menumerate\u001B[39;49m\u001B[43m(\u001B[49m\u001B[43mcv\u001B[49m\u001B[38;5;241;43m.\u001B[39;49m\u001B[43msplit\u001B[49m\u001B[43m(\u001B[49m\u001B[43mX\u001B[49m\u001B[43m,\u001B[49m\u001B[43m \u001B[49m\u001B[43my\u001B[49m\u001B[43m,\u001B[49m\u001B[43m \u001B[49m\u001B[43mgroups\u001B[49m\u001B[43m)\u001B[49m\u001B[43m)\u001B[49m\n\u001B[1;32m    852\u001B[0m \u001B[43m    \u001B[49m\u001B[43m)\u001B[49m\n\u001B[1;32m    853\u001B[0m \u001B[43m\u001B[49m\u001B[43m)\u001B[49m\n\u001B[1;32m    855\u001B[0m \u001B[38;5;28;01mif\u001B[39;00m \u001B[38;5;28mlen\u001B[39m(out) \u001B[38;5;241m<\u001B[39m \u001B[38;5;241m1\u001B[39m:\n\u001B[1;32m    856\u001B[0m     \u001B[38;5;28;01mraise\u001B[39;00m \u001B[38;5;167;01mValueError\u001B[39;00m(\n\u001B[1;32m    857\u001B[0m         \u001B[38;5;124m\"\u001B[39m\u001B[38;5;124mNo fits were performed. \u001B[39m\u001B[38;5;124m\"\u001B[39m\n\u001B[1;32m    858\u001B[0m         \u001B[38;5;124m\"\u001B[39m\u001B[38;5;124mWas the CV iterator empty? \u001B[39m\u001B[38;5;124m\"\u001B[39m\n\u001B[1;32m    859\u001B[0m         \u001B[38;5;124m\"\u001B[39m\u001B[38;5;124mWere there no candidates?\u001B[39m\u001B[38;5;124m\"\u001B[39m\n\u001B[1;32m    860\u001B[0m     )\n",
      "File \u001B[0;32m~/miniforge3/envs/phd-workspace/lib/python3.9/site-packages/joblib/parallel.py:1046\u001B[0m, in \u001B[0;36mParallel.__call__\u001B[0;34m(self, iterable)\u001B[0m\n\u001B[1;32m   1043\u001B[0m \u001B[38;5;28;01mif\u001B[39;00m \u001B[38;5;28mself\u001B[39m\u001B[38;5;241m.\u001B[39mdispatch_one_batch(iterator):\n\u001B[1;32m   1044\u001B[0m     \u001B[38;5;28mself\u001B[39m\u001B[38;5;241m.\u001B[39m_iterating \u001B[38;5;241m=\u001B[39m \u001B[38;5;28mself\u001B[39m\u001B[38;5;241m.\u001B[39m_original_iterator \u001B[38;5;129;01mis\u001B[39;00m \u001B[38;5;129;01mnot\u001B[39;00m \u001B[38;5;28;01mNone\u001B[39;00m\n\u001B[0;32m-> 1046\u001B[0m \u001B[38;5;28;01mwhile\u001B[39;00m \u001B[38;5;28;43mself\u001B[39;49m\u001B[38;5;241;43m.\u001B[39;49m\u001B[43mdispatch_one_batch\u001B[49m\u001B[43m(\u001B[49m\u001B[43miterator\u001B[49m\u001B[43m)\u001B[49m:\n\u001B[1;32m   1047\u001B[0m     \u001B[38;5;28;01mpass\u001B[39;00m\n\u001B[1;32m   1049\u001B[0m \u001B[38;5;28;01mif\u001B[39;00m pre_dispatch \u001B[38;5;241m==\u001B[39m \u001B[38;5;124m\"\u001B[39m\u001B[38;5;124mall\u001B[39m\u001B[38;5;124m\"\u001B[39m \u001B[38;5;129;01mor\u001B[39;00m n_jobs \u001B[38;5;241m==\u001B[39m \u001B[38;5;241m1\u001B[39m:\n\u001B[1;32m   1050\u001B[0m     \u001B[38;5;66;03m# The iterable was consumed all at once by the above for loop.\u001B[39;00m\n\u001B[1;32m   1051\u001B[0m     \u001B[38;5;66;03m# No need to wait for async callbacks to trigger to\u001B[39;00m\n\u001B[1;32m   1052\u001B[0m     \u001B[38;5;66;03m# consumption.\u001B[39;00m\n",
      "File \u001B[0;32m~/miniforge3/envs/phd-workspace/lib/python3.9/site-packages/joblib/parallel.py:861\u001B[0m, in \u001B[0;36mParallel.dispatch_one_batch\u001B[0;34m(self, iterator)\u001B[0m\n\u001B[1;32m    859\u001B[0m     \u001B[38;5;28;01mreturn\u001B[39;00m \u001B[38;5;28;01mFalse\u001B[39;00m\n\u001B[1;32m    860\u001B[0m \u001B[38;5;28;01melse\u001B[39;00m:\n\u001B[0;32m--> 861\u001B[0m     \u001B[38;5;28;43mself\u001B[39;49m\u001B[38;5;241;43m.\u001B[39;49m\u001B[43m_dispatch\u001B[49m\u001B[43m(\u001B[49m\u001B[43mtasks\u001B[49m\u001B[43m)\u001B[49m\n\u001B[1;32m    862\u001B[0m     \u001B[38;5;28;01mreturn\u001B[39;00m \u001B[38;5;28;01mTrue\u001B[39;00m\n",
      "File \u001B[0;32m~/miniforge3/envs/phd-workspace/lib/python3.9/site-packages/joblib/parallel.py:779\u001B[0m, in \u001B[0;36mParallel._dispatch\u001B[0;34m(self, batch)\u001B[0m\n\u001B[1;32m    777\u001B[0m \u001B[38;5;28;01mwith\u001B[39;00m \u001B[38;5;28mself\u001B[39m\u001B[38;5;241m.\u001B[39m_lock:\n\u001B[1;32m    778\u001B[0m     job_idx \u001B[38;5;241m=\u001B[39m \u001B[38;5;28mlen\u001B[39m(\u001B[38;5;28mself\u001B[39m\u001B[38;5;241m.\u001B[39m_jobs)\n\u001B[0;32m--> 779\u001B[0m     job \u001B[38;5;241m=\u001B[39m \u001B[38;5;28;43mself\u001B[39;49m\u001B[38;5;241;43m.\u001B[39;49m\u001B[43m_backend\u001B[49m\u001B[38;5;241;43m.\u001B[39;49m\u001B[43mapply_async\u001B[49m\u001B[43m(\u001B[49m\u001B[43mbatch\u001B[49m\u001B[43m,\u001B[49m\u001B[43m \u001B[49m\u001B[43mcallback\u001B[49m\u001B[38;5;241;43m=\u001B[39;49m\u001B[43mcb\u001B[49m\u001B[43m)\u001B[49m\n\u001B[1;32m    780\u001B[0m     \u001B[38;5;66;03m# A job can complete so quickly than its callback is\u001B[39;00m\n\u001B[1;32m    781\u001B[0m     \u001B[38;5;66;03m# called before we get here, causing self._jobs to\u001B[39;00m\n\u001B[1;32m    782\u001B[0m     \u001B[38;5;66;03m# grow. To ensure correct results ordering, .insert is\u001B[39;00m\n\u001B[1;32m    783\u001B[0m     \u001B[38;5;66;03m# used (rather than .append) in the following line\u001B[39;00m\n\u001B[1;32m    784\u001B[0m     \u001B[38;5;28mself\u001B[39m\u001B[38;5;241m.\u001B[39m_jobs\u001B[38;5;241m.\u001B[39minsert(job_idx, job)\n",
      "File \u001B[0;32m~/miniforge3/envs/phd-workspace/lib/python3.9/site-packages/joblib/_parallel_backends.py:208\u001B[0m, in \u001B[0;36mSequentialBackend.apply_async\u001B[0;34m(self, func, callback)\u001B[0m\n\u001B[1;32m    206\u001B[0m \u001B[38;5;28;01mdef\u001B[39;00m \u001B[38;5;21mapply_async\u001B[39m(\u001B[38;5;28mself\u001B[39m, func, callback\u001B[38;5;241m=\u001B[39m\u001B[38;5;28;01mNone\u001B[39;00m):\n\u001B[1;32m    207\u001B[0m     \u001B[38;5;124;03m\"\"\"Schedule a func to be run\"\"\"\u001B[39;00m\n\u001B[0;32m--> 208\u001B[0m     result \u001B[38;5;241m=\u001B[39m \u001B[43mImmediateResult\u001B[49m\u001B[43m(\u001B[49m\u001B[43mfunc\u001B[49m\u001B[43m)\u001B[49m\n\u001B[1;32m    209\u001B[0m     \u001B[38;5;28;01mif\u001B[39;00m callback:\n\u001B[1;32m    210\u001B[0m         callback(result)\n",
      "File \u001B[0;32m~/miniforge3/envs/phd-workspace/lib/python3.9/site-packages/joblib/_parallel_backends.py:572\u001B[0m, in \u001B[0;36mImmediateResult.__init__\u001B[0;34m(self, batch)\u001B[0m\n\u001B[1;32m    569\u001B[0m \u001B[38;5;28;01mdef\u001B[39;00m \u001B[38;5;21m__init__\u001B[39m(\u001B[38;5;28mself\u001B[39m, batch):\n\u001B[1;32m    570\u001B[0m     \u001B[38;5;66;03m# Don't delay the application, to avoid keeping the input\u001B[39;00m\n\u001B[1;32m    571\u001B[0m     \u001B[38;5;66;03m# arguments in memory\u001B[39;00m\n\u001B[0;32m--> 572\u001B[0m     \u001B[38;5;28mself\u001B[39m\u001B[38;5;241m.\u001B[39mresults \u001B[38;5;241m=\u001B[39m \u001B[43mbatch\u001B[49m\u001B[43m(\u001B[49m\u001B[43m)\u001B[49m\n",
      "File \u001B[0;32m~/miniforge3/envs/phd-workspace/lib/python3.9/site-packages/joblib/parallel.py:262\u001B[0m, in \u001B[0;36mBatchedCalls.__call__\u001B[0;34m(self)\u001B[0m\n\u001B[1;32m    258\u001B[0m \u001B[38;5;28;01mdef\u001B[39;00m \u001B[38;5;21m__call__\u001B[39m(\u001B[38;5;28mself\u001B[39m):\n\u001B[1;32m    259\u001B[0m     \u001B[38;5;66;03m# Set the default nested backend to self._backend but do not set the\u001B[39;00m\n\u001B[1;32m    260\u001B[0m     \u001B[38;5;66;03m# change the default number of processes to -1\u001B[39;00m\n\u001B[1;32m    261\u001B[0m     \u001B[38;5;28;01mwith\u001B[39;00m parallel_backend(\u001B[38;5;28mself\u001B[39m\u001B[38;5;241m.\u001B[39m_backend, n_jobs\u001B[38;5;241m=\u001B[39m\u001B[38;5;28mself\u001B[39m\u001B[38;5;241m.\u001B[39m_n_jobs):\n\u001B[0;32m--> 262\u001B[0m         \u001B[38;5;28;01mreturn\u001B[39;00m [func(\u001B[38;5;241m*\u001B[39margs, \u001B[38;5;241m*\u001B[39m\u001B[38;5;241m*\u001B[39mkwargs)\n\u001B[1;32m    263\u001B[0m                 \u001B[38;5;28;01mfor\u001B[39;00m func, args, kwargs \u001B[38;5;129;01min\u001B[39;00m \u001B[38;5;28mself\u001B[39m\u001B[38;5;241m.\u001B[39mitems]\n",
      "File \u001B[0;32m~/miniforge3/envs/phd-workspace/lib/python3.9/site-packages/joblib/parallel.py:262\u001B[0m, in \u001B[0;36m<listcomp>\u001B[0;34m(.0)\u001B[0m\n\u001B[1;32m    258\u001B[0m \u001B[38;5;28;01mdef\u001B[39;00m \u001B[38;5;21m__call__\u001B[39m(\u001B[38;5;28mself\u001B[39m):\n\u001B[1;32m    259\u001B[0m     \u001B[38;5;66;03m# Set the default nested backend to self._backend but do not set the\u001B[39;00m\n\u001B[1;32m    260\u001B[0m     \u001B[38;5;66;03m# change the default number of processes to -1\u001B[39;00m\n\u001B[1;32m    261\u001B[0m     \u001B[38;5;28;01mwith\u001B[39;00m parallel_backend(\u001B[38;5;28mself\u001B[39m\u001B[38;5;241m.\u001B[39m_backend, n_jobs\u001B[38;5;241m=\u001B[39m\u001B[38;5;28mself\u001B[39m\u001B[38;5;241m.\u001B[39m_n_jobs):\n\u001B[0;32m--> 262\u001B[0m         \u001B[38;5;28;01mreturn\u001B[39;00m [\u001B[43mfunc\u001B[49m\u001B[43m(\u001B[49m\u001B[38;5;241;43m*\u001B[39;49m\u001B[43margs\u001B[49m\u001B[43m,\u001B[49m\u001B[43m \u001B[49m\u001B[38;5;241;43m*\u001B[39;49m\u001B[38;5;241;43m*\u001B[39;49m\u001B[43mkwargs\u001B[49m\u001B[43m)\u001B[49m\n\u001B[1;32m    263\u001B[0m                 \u001B[38;5;28;01mfor\u001B[39;00m func, args, kwargs \u001B[38;5;129;01min\u001B[39;00m \u001B[38;5;28mself\u001B[39m\u001B[38;5;241m.\u001B[39mitems]\n",
      "File \u001B[0;32m~/miniforge3/envs/phd-workspace/lib/python3.9/site-packages/sklearn/utils/fixes.py:216\u001B[0m, in \u001B[0;36m_FuncWrapper.__call__\u001B[0;34m(self, *args, **kwargs)\u001B[0m\n\u001B[1;32m    214\u001B[0m \u001B[38;5;28;01mdef\u001B[39;00m \u001B[38;5;21m__call__\u001B[39m(\u001B[38;5;28mself\u001B[39m, \u001B[38;5;241m*\u001B[39margs, \u001B[38;5;241m*\u001B[39m\u001B[38;5;241m*\u001B[39mkwargs):\n\u001B[1;32m    215\u001B[0m     \u001B[38;5;28;01mwith\u001B[39;00m config_context(\u001B[38;5;241m*\u001B[39m\u001B[38;5;241m*\u001B[39m\u001B[38;5;28mself\u001B[39m\u001B[38;5;241m.\u001B[39mconfig):\n\u001B[0;32m--> 216\u001B[0m         \u001B[38;5;28;01mreturn\u001B[39;00m \u001B[38;5;28;43mself\u001B[39;49m\u001B[38;5;241;43m.\u001B[39;49m\u001B[43mfunction\u001B[49m\u001B[43m(\u001B[49m\u001B[38;5;241;43m*\u001B[39;49m\u001B[43margs\u001B[49m\u001B[43m,\u001B[49m\u001B[43m \u001B[49m\u001B[38;5;241;43m*\u001B[39;49m\u001B[38;5;241;43m*\u001B[39;49m\u001B[43mkwargs\u001B[49m\u001B[43m)\u001B[49m\n",
      "File \u001B[0;32m~/miniforge3/envs/phd-workspace/lib/python3.9/site-packages/sklearn/model_selection/_validation.py:680\u001B[0m, in \u001B[0;36m_fit_and_score\u001B[0;34m(estimator, X, y, scorer, train, test, verbose, parameters, fit_params, return_train_score, return_parameters, return_n_test_samples, return_times, return_estimator, split_progress, candidate_progress, error_score)\u001B[0m\n\u001B[1;32m    678\u001B[0m         estimator\u001B[38;5;241m.\u001B[39mfit(X_train, \u001B[38;5;241m*\u001B[39m\u001B[38;5;241m*\u001B[39mfit_params)\n\u001B[1;32m    679\u001B[0m     \u001B[38;5;28;01melse\u001B[39;00m:\n\u001B[0;32m--> 680\u001B[0m         \u001B[43mestimator\u001B[49m\u001B[38;5;241;43m.\u001B[39;49m\u001B[43mfit\u001B[49m\u001B[43m(\u001B[49m\u001B[43mX_train\u001B[49m\u001B[43m,\u001B[49m\u001B[43m \u001B[49m\u001B[43my_train\u001B[49m\u001B[43m,\u001B[49m\u001B[43m \u001B[49m\u001B[38;5;241;43m*\u001B[39;49m\u001B[38;5;241;43m*\u001B[39;49m\u001B[43mfit_params\u001B[49m\u001B[43m)\u001B[49m\n\u001B[1;32m    682\u001B[0m \u001B[38;5;28;01mexcept\u001B[39;00m \u001B[38;5;167;01mException\u001B[39;00m:\n\u001B[1;32m    683\u001B[0m     \u001B[38;5;66;03m# Note fit time as time until error\u001B[39;00m\n\u001B[1;32m    684\u001B[0m     fit_time \u001B[38;5;241m=\u001B[39m time\u001B[38;5;241m.\u001B[39mtime() \u001B[38;5;241m-\u001B[39m start_time\n",
      "File \u001B[0;32m~/miniforge3/envs/phd-workspace/lib/python3.9/site-packages/sklearn/svm/_base.py:255\u001B[0m, in \u001B[0;36mBaseLibSVM.fit\u001B[0;34m(self, X, y, sample_weight)\u001B[0m\n\u001B[1;32m    252\u001B[0m     \u001B[38;5;28mprint\u001B[39m(\u001B[38;5;124m\"\u001B[39m\u001B[38;5;124m[LibSVM]\u001B[39m\u001B[38;5;124m\"\u001B[39m, end\u001B[38;5;241m=\u001B[39m\u001B[38;5;124m\"\u001B[39m\u001B[38;5;124m\"\u001B[39m)\n\u001B[1;32m    254\u001B[0m seed \u001B[38;5;241m=\u001B[39m rnd\u001B[38;5;241m.\u001B[39mrandint(np\u001B[38;5;241m.\u001B[39miinfo(\u001B[38;5;124m\"\u001B[39m\u001B[38;5;124mi\u001B[39m\u001B[38;5;124m\"\u001B[39m)\u001B[38;5;241m.\u001B[39mmax)\n\u001B[0;32m--> 255\u001B[0m \u001B[43mfit\u001B[49m\u001B[43m(\u001B[49m\u001B[43mX\u001B[49m\u001B[43m,\u001B[49m\u001B[43m \u001B[49m\u001B[43my\u001B[49m\u001B[43m,\u001B[49m\u001B[43m \u001B[49m\u001B[43msample_weight\u001B[49m\u001B[43m,\u001B[49m\u001B[43m \u001B[49m\u001B[43msolver_type\u001B[49m\u001B[43m,\u001B[49m\u001B[43m \u001B[49m\u001B[43mkernel\u001B[49m\u001B[43m,\u001B[49m\u001B[43m \u001B[49m\u001B[43mrandom_seed\u001B[49m\u001B[38;5;241;43m=\u001B[39;49m\u001B[43mseed\u001B[49m\u001B[43m)\u001B[49m\n\u001B[1;32m    256\u001B[0m \u001B[38;5;66;03m# see comment on the other call to np.iinfo in this file\u001B[39;00m\n\u001B[1;32m    258\u001B[0m \u001B[38;5;28mself\u001B[39m\u001B[38;5;241m.\u001B[39mshape_fit_ \u001B[38;5;241m=\u001B[39m X\u001B[38;5;241m.\u001B[39mshape \u001B[38;5;28;01mif\u001B[39;00m \u001B[38;5;28mhasattr\u001B[39m(X, \u001B[38;5;124m\"\u001B[39m\u001B[38;5;124mshape\u001B[39m\u001B[38;5;124m\"\u001B[39m) \u001B[38;5;28;01melse\u001B[39;00m (n_samples,)\n",
      "File \u001B[0;32m~/miniforge3/envs/phd-workspace/lib/python3.9/site-packages/sklearn/svm/_base.py:315\u001B[0m, in \u001B[0;36mBaseLibSVM._dense_fit\u001B[0;34m(self, X, y, sample_weight, solver_type, kernel, random_seed)\u001B[0m\n\u001B[1;32m    302\u001B[0m libsvm\u001B[38;5;241m.\u001B[39mset_verbosity_wrap(\u001B[38;5;28mself\u001B[39m\u001B[38;5;241m.\u001B[39mverbose)\n\u001B[1;32m    304\u001B[0m \u001B[38;5;66;03m# we don't pass **self.get_params() to allow subclasses to\u001B[39;00m\n\u001B[1;32m    305\u001B[0m \u001B[38;5;66;03m# add other parameters to __init__\u001B[39;00m\n\u001B[1;32m    306\u001B[0m (\n\u001B[1;32m    307\u001B[0m     \u001B[38;5;28mself\u001B[39m\u001B[38;5;241m.\u001B[39msupport_,\n\u001B[1;32m    308\u001B[0m     \u001B[38;5;28mself\u001B[39m\u001B[38;5;241m.\u001B[39msupport_vectors_,\n\u001B[1;32m    309\u001B[0m     \u001B[38;5;28mself\u001B[39m\u001B[38;5;241m.\u001B[39m_n_support,\n\u001B[1;32m    310\u001B[0m     \u001B[38;5;28mself\u001B[39m\u001B[38;5;241m.\u001B[39mdual_coef_,\n\u001B[1;32m    311\u001B[0m     \u001B[38;5;28mself\u001B[39m\u001B[38;5;241m.\u001B[39mintercept_,\n\u001B[1;32m    312\u001B[0m     \u001B[38;5;28mself\u001B[39m\u001B[38;5;241m.\u001B[39m_probA,\n\u001B[1;32m    313\u001B[0m     \u001B[38;5;28mself\u001B[39m\u001B[38;5;241m.\u001B[39m_probB,\n\u001B[1;32m    314\u001B[0m     \u001B[38;5;28mself\u001B[39m\u001B[38;5;241m.\u001B[39mfit_status_,\n\u001B[0;32m--> 315\u001B[0m ) \u001B[38;5;241m=\u001B[39m \u001B[43mlibsvm\u001B[49m\u001B[38;5;241;43m.\u001B[39;49m\u001B[43mfit\u001B[49m\u001B[43m(\u001B[49m\n\u001B[1;32m    316\u001B[0m \u001B[43m    \u001B[49m\u001B[43mX\u001B[49m\u001B[43m,\u001B[49m\n\u001B[1;32m    317\u001B[0m \u001B[43m    \u001B[49m\u001B[43my\u001B[49m\u001B[43m,\u001B[49m\n\u001B[1;32m    318\u001B[0m \u001B[43m    \u001B[49m\u001B[43msvm_type\u001B[49m\u001B[38;5;241;43m=\u001B[39;49m\u001B[43msolver_type\u001B[49m\u001B[43m,\u001B[49m\n\u001B[1;32m    319\u001B[0m \u001B[43m    \u001B[49m\u001B[43msample_weight\u001B[49m\u001B[38;5;241;43m=\u001B[39;49m\u001B[43msample_weight\u001B[49m\u001B[43m,\u001B[49m\n\u001B[1;32m    320\u001B[0m \u001B[43m    \u001B[49m\u001B[43mclass_weight\u001B[49m\u001B[38;5;241;43m=\u001B[39;49m\u001B[38;5;28;43mself\u001B[39;49m\u001B[38;5;241;43m.\u001B[39;49m\u001B[43mclass_weight_\u001B[49m\u001B[43m,\u001B[49m\n\u001B[1;32m    321\u001B[0m \u001B[43m    \u001B[49m\u001B[43mkernel\u001B[49m\u001B[38;5;241;43m=\u001B[39;49m\u001B[43mkernel\u001B[49m\u001B[43m,\u001B[49m\n\u001B[1;32m    322\u001B[0m \u001B[43m    \u001B[49m\u001B[43mC\u001B[49m\u001B[38;5;241;43m=\u001B[39;49m\u001B[38;5;28;43mself\u001B[39;49m\u001B[38;5;241;43m.\u001B[39;49m\u001B[43mC\u001B[49m\u001B[43m,\u001B[49m\n\u001B[1;32m    323\u001B[0m \u001B[43m    \u001B[49m\u001B[43mnu\u001B[49m\u001B[38;5;241;43m=\u001B[39;49m\u001B[38;5;28;43mself\u001B[39;49m\u001B[38;5;241;43m.\u001B[39;49m\u001B[43mnu\u001B[49m\u001B[43m,\u001B[49m\n\u001B[1;32m    324\u001B[0m \u001B[43m    \u001B[49m\u001B[43mprobability\u001B[49m\u001B[38;5;241;43m=\u001B[39;49m\u001B[38;5;28;43mself\u001B[39;49m\u001B[38;5;241;43m.\u001B[39;49m\u001B[43mprobability\u001B[49m\u001B[43m,\u001B[49m\n\u001B[1;32m    325\u001B[0m \u001B[43m    \u001B[49m\u001B[43mdegree\u001B[49m\u001B[38;5;241;43m=\u001B[39;49m\u001B[38;5;28;43mself\u001B[39;49m\u001B[38;5;241;43m.\u001B[39;49m\u001B[43mdegree\u001B[49m\u001B[43m,\u001B[49m\n\u001B[1;32m    326\u001B[0m \u001B[43m    \u001B[49m\u001B[43mshrinking\u001B[49m\u001B[38;5;241;43m=\u001B[39;49m\u001B[38;5;28;43mself\u001B[39;49m\u001B[38;5;241;43m.\u001B[39;49m\u001B[43mshrinking\u001B[49m\u001B[43m,\u001B[49m\n\u001B[1;32m    327\u001B[0m \u001B[43m    \u001B[49m\u001B[43mtol\u001B[49m\u001B[38;5;241;43m=\u001B[39;49m\u001B[38;5;28;43mself\u001B[39;49m\u001B[38;5;241;43m.\u001B[39;49m\u001B[43mtol\u001B[49m\u001B[43m,\u001B[49m\n\u001B[1;32m    328\u001B[0m \u001B[43m    \u001B[49m\u001B[43mcache_size\u001B[49m\u001B[38;5;241;43m=\u001B[39;49m\u001B[38;5;28;43mself\u001B[39;49m\u001B[38;5;241;43m.\u001B[39;49m\u001B[43mcache_size\u001B[49m\u001B[43m,\u001B[49m\n\u001B[1;32m    329\u001B[0m \u001B[43m    \u001B[49m\u001B[43mcoef0\u001B[49m\u001B[38;5;241;43m=\u001B[39;49m\u001B[38;5;28;43mself\u001B[39;49m\u001B[38;5;241;43m.\u001B[39;49m\u001B[43mcoef0\u001B[49m\u001B[43m,\u001B[49m\n\u001B[1;32m    330\u001B[0m \u001B[43m    \u001B[49m\u001B[43mgamma\u001B[49m\u001B[38;5;241;43m=\u001B[39;49m\u001B[38;5;28;43mself\u001B[39;49m\u001B[38;5;241;43m.\u001B[39;49m\u001B[43m_gamma\u001B[49m\u001B[43m,\u001B[49m\n\u001B[1;32m    331\u001B[0m \u001B[43m    \u001B[49m\u001B[43mepsilon\u001B[49m\u001B[38;5;241;43m=\u001B[39;49m\u001B[38;5;28;43mself\u001B[39;49m\u001B[38;5;241;43m.\u001B[39;49m\u001B[43mepsilon\u001B[49m\u001B[43m,\u001B[49m\n\u001B[1;32m    332\u001B[0m \u001B[43m    \u001B[49m\u001B[43mmax_iter\u001B[49m\u001B[38;5;241;43m=\u001B[39;49m\u001B[38;5;28;43mself\u001B[39;49m\u001B[38;5;241;43m.\u001B[39;49m\u001B[43mmax_iter\u001B[49m\u001B[43m,\u001B[49m\n\u001B[1;32m    333\u001B[0m \u001B[43m    \u001B[49m\u001B[43mrandom_seed\u001B[49m\u001B[38;5;241;43m=\u001B[39;49m\u001B[43mrandom_seed\u001B[49m\u001B[43m,\u001B[49m\n\u001B[1;32m    334\u001B[0m \u001B[43m\u001B[49m\u001B[43m)\u001B[49m\n\u001B[1;32m    336\u001B[0m \u001B[38;5;28mself\u001B[39m\u001B[38;5;241m.\u001B[39m_warn_from_fit_status()\n",
      "\u001B[0;31mKeyboardInterrupt\u001B[0m: "
     ]
    }
   ],
   "source": [
    "from sklearn.model_selection import GridSearchCV\n",
    "\n",
    "cv = StratifiedKFold(n_splits=10, shuffle=True, random_state=42)\n",
    "\n",
    "param_grid = {'C': [0.1,1,10], 'gamma': [0.1,0.01],'kernel': ['rbf', 'linear']}\n",
    "#clf = SVC(kernel='linear', C=1, class_weight = \"balanced\")\n",
    "svc = SVC()\n",
    "clf = GridSearchCV(svc, param_grid)\n",
    "\n",
    "nsamples, nx, ny = X.shape\n",
    "d2_train_dataset = X.reshape((nsamples,nx*ny))\n",
    "\n",
    "# Proceso de validación cruzada\n",
    "preds = np.empty(len(Y))\n",
    "for train, test in cv.split(d2_train_dataset, Y):\n",
    "    clf.fit(d2_train_dataset[train], Y[train]) # ajustar\n",
    "    preds[test] = clf.predict(d2_train_dataset[test]) #\n",
    "\n",
    "# Info del proceso\n",
    "target_names = ['NoTarget', 'Target']\n",
    "report = classification_report(Y, preds, target_names=target_names)\n",
    "print(report)"
   ],
   "metadata": {
    "collapsed": false,
    "pycharm": {
     "name": "#%%\n"
    }
   }
  },
  {
   "cell_type": "code",
   "execution_count": 141,
   "outputs": [
    {
     "name": "stdout",
     "output_type": "stream",
     "text": [
      "              precision    recall  f1-score   support\n",
      "\n",
      "    NoTarget       0.69      0.81      0.74       593\n",
      "      Target       0.75      0.60      0.67       554\n",
      "\n",
      "    accuracy                           0.71      1147\n",
      "   macro avg       0.72      0.71      0.71      1147\n",
      "weighted avg       0.72      0.71      0.71      1147\n",
      "\n"
     ]
    }
   ],
   "source": [
    "from sklearn.ensemble import RandomForestClassifier\n",
    "\n",
    "cv = StratifiedKFold(n_splits=10, shuffle=True, random_state=42)\n",
    "\n",
    "clf = RandomForestClassifier(max_depth=2, random_state=0)\n",
    "\n",
    "nsamples, nx, ny = X.shape\n",
    "d2_train_dataset = X.reshape((nsamples,nx*ny))\n",
    "\n",
    "# Proceso de validación cruzada\n",
    "preds = np.empty(len(Y))\n",
    "for train, test in cv.split(d2_train_dataset, Y):\n",
    "    clf.fit(d2_train_dataset[train], Y[train]) # ajustar\n",
    "    preds[test] = clf.predict(d2_train_dataset[test]) #\n",
    "\n",
    "# Info del proceso\n",
    "target_names = ['NoTarget', 'Target']\n",
    "report = classification_report(Y, preds, target_names=target_names)\n",
    "print(report)"
   ],
   "metadata": {
    "collapsed": false,
    "pycharm": {
     "name": "#%%\n"
    }
   }
  },
  {
   "cell_type": "code",
   "execution_count": 16,
   "outputs": [],
   "source": [
    "contamination_factor=0.05"
   ],
   "metadata": {
    "collapsed": false,
    "pycharm": {
     "name": "#%%\n"
    }
   }
  },
  {
   "cell_type": "code",
   "execution_count": 21,
   "outputs": [],
   "source": [
    "from sklearn.model_selection import train_test_split\n",
    "\n",
    "# Split dataset in training and testing\n",
    "X_train, X_test = train_test_split(X, test_size=0.10, random_state=42,shuffle=True)"
   ],
   "metadata": {
    "collapsed": false,
    "pycharm": {
     "name": "#%%\n"
    }
   }
  },
  {
   "cell_type": "code",
   "execution_count": 22,
   "outputs": [
    {
     "data": {
      "text/plain": "OCSVM(cache_size=200, coef0=0.0, contamination=0.05, degree=3, gamma=0.0001,\n   kernel='rbf', max_iter=-1, nu=0.3, shrinking=True, tol=0.001,\n   verbose=False)"
     },
     "execution_count": 22,
     "metadata": {},
     "output_type": "execute_result"
    }
   ],
   "source": [
    "from pyod.models.ocsvm import OCSVM\n",
    "clf = OCSVM(kernel='rbf',gamma=0.0001, nu=0.3, contamination=contamination_factor)\n",
    "\n",
    "nsamples, nx, ny = X_train.shape\n",
    "d2_train_dataset = X_train.reshape((nsamples,nx*ny))\n",
    "\n",
    "nsamples, nx, ny = X_test.shape\n",
    "d2_test_dataset = X_test.reshape((nsamples,nx*ny))\n",
    "\n",
    "# Model training\n",
    "clf.fit(d2_train_dataset)"
   ],
   "metadata": {
    "collapsed": false,
    "pycharm": {
     "name": "#%%\n"
    }
   }
  },
  {
   "cell_type": "code",
   "execution_count": 23,
   "outputs": [
    {
     "name": "stdout",
     "output_type": "stream",
     "text": [
      "\t [0 1]      [109   6]\n"
     ]
    }
   ],
   "source": [
    "pred=clf.predict(d2_test_dataset)\n",
    "unique_elements, counts_elements = np.unique(pred, return_counts=True)\n",
    "print(\"\\t\",unique_elements,\"    \",counts_elements)"
   ],
   "metadata": {
    "collapsed": false,
    "pycharm": {
     "name": "#%%\n"
    }
   }
  },
  {
   "cell_type": "code",
   "execution_count": null,
   "outputs": [],
   "source": [],
   "metadata": {
    "collapsed": false,
    "pycharm": {
     "name": "#%%\n"
    }
   }
  },
  {
   "cell_type": "markdown",
   "source": [
    "## Noise-based cyberattacks"
   ],
   "metadata": {
    "collapsed": false,
    "pycharm": {
     "name": "#%% md\n"
    }
   }
  },
  {
   "cell_type": "code",
   "execution_count": 144,
   "outputs": [
    {
     "name": "stdout",
     "output_type": "stream",
     "text": [
      "[[[ 1.81731200e+01  5.44955718e+01  2.72337507e+01 ...  1.86841469e+01\n",
      "   -7.10882139e+01 -8.66169560e+01]\n",
      "  [ 2.51466269e+01  9.63286207e+01 -3.66448350e+00 ...  7.03541437e+01\n",
      "   -5.12753231e+00 -7.95808717e+01]\n",
      "  [ 2.43983599e+01 -5.51822047e+01 -8.19190552e+01 ...  1.78891129e+01\n",
      "    7.57618551e+01 -4.96923094e+00]\n",
      "  ...\n",
      "  [-4.09839862e+01  6.33002176e+01 -3.43444104e+01 ...  4.12098019e+01\n",
      "   -3.83263387e+01 -2.00239200e+01]\n",
      "  [ 2.30350285e+01 -9.48192259e+01  2.91118209e+01 ... -5.87915279e+01\n",
      "   -4.14197317e+00  1.40609370e+01]\n",
      "  [ 2.95113720e+01  4.89443953e+01  6.83105049e+01 ...  2.04240405e+01\n",
      "    4.75163489e+01  1.32228019e+01]]\n",
      "\n",
      " [[-6.25911852e+01 -2.76218302e+01 -2.25274519e+01 ...  6.91964078e+01\n",
      "   -8.90847251e+01  2.50608657e+00]\n",
      "  [-1.27710442e+02  6.84338961e+00 -1.17924409e+02 ...  5.22719766e+01\n",
      "   -2.91328037e+01  7.91087344e+01]\n",
      "  [ 7.46230934e+01  7.86592785e+00  3.02742156e+01 ...  6.19403816e+01\n",
      "   -6.26506693e+00 -1.16781802e+01]\n",
      "  ...\n",
      "  [-4.90217240e+01  1.48368063e+02  3.50880474e+01 ... -1.82541663e+01\n",
      "    7.08374378e+01 -2.89589650e+01]\n",
      "  [-1.45889338e+01 -8.03992429e+00 -1.20907381e+01 ...  1.21250257e+01\n",
      "    1.56508221e+02 -2.88802223e+01]\n",
      "  [-1.16552227e+02 -3.81575668e+01 -2.01931411e+01 ...  7.11487421e+01\n",
      "    1.10984840e+01 -6.51606909e+00]]\n",
      "\n",
      " [[ 4.47044158e+01 -3.42315295e+01 -8.18168348e+00 ...  2.39384686e+01\n",
      "   -1.54905985e+01 -5.25298726e+01]\n",
      "  [ 3.86977453e+01 -3.49997779e+01 -1.98109371e+01 ... -5.15527076e+01\n",
      "   -1.53295078e+02 -5.23117388e+01]\n",
      "  [ 5.70301692e+01 -6.73647809e+01 -5.17526706e+01 ...  1.63818040e+01\n",
      "   -1.85947229e+01  3.27221565e+01]\n",
      "  ...\n",
      "  [-6.85615652e+01  5.61465166e+01 -1.30209288e+01 ... -1.01308882e+01\n",
      "    1.35600127e+02  4.42823193e+01]\n",
      "  [-3.68264397e+01 -7.16145183e-01 -2.06359329e+01 ... -5.38507271e+01\n",
      "   -2.57920222e+01  9.66468207e+01]\n",
      "  [-8.48489413e+01 -1.56056711e+01 -9.17331540e-01 ...  1.57764882e+01\n",
      "    5.41017686e+01  5.90805678e+01]]\n",
      "\n",
      " ...\n",
      "\n",
      " [[ 6.61552256e+01  7.01921636e+01 -2.42258868e+01 ...  4.25426321e+01\n",
      "    4.09726565e+01 -1.56074105e+02]\n",
      "  [-3.78412589e+01 -3.37816251e+01  5.75356714e+01 ... -2.37597855e+01\n",
      "    1.08161690e+01  7.94964340e+01]\n",
      "  [ 2.38795076e+01  1.27299485e+01 -1.98518213e+01 ...  1.78275039e+00\n",
      "   -1.02318714e+02  1.33070310e+02]\n",
      "  ...\n",
      "  [ 2.76769194e+01 -1.76878314e+01  1.15216905e+01 ...  9.09736241e+01\n",
      "   -3.37283759e+01  1.55661009e+01]\n",
      "  [-1.81197404e+02  4.36243487e+01  5.32675986e+01 ... -5.12946260e+01\n",
      "   -3.58966099e+01 -5.87490390e-02]\n",
      "  [-1.54304488e+01  4.65516627e+00  9.64873143e+00 ... -6.49586575e+01\n",
      "   -1.10174957e+01  3.41480188e+01]]\n",
      "\n",
      " [[-6.57185561e+01  1.03767585e+02 -4.12937253e+01 ...  8.81387231e+01\n",
      "   -1.04861757e+01 -1.53863858e+01]\n",
      "  [-6.80326215e+00 -1.30383937e+02 -1.40631602e+01 ...  3.65591232e+01\n",
      "   -3.57304331e+01  3.37720872e+01]\n",
      "  [-3.01739096e+01 -3.09495281e-01 -6.03016003e+00 ... -3.01696948e+01\n",
      "    5.25612309e+01 -7.85852203e+01]\n",
      "  ...\n",
      "  [ 6.29289022e+01  1.85134373e+02  5.17842204e+00 ...  7.45641483e+01\n",
      "   -3.83281270e+01  6.64377234e+01]\n",
      "  [ 6.22689211e+01 -1.42831176e+00 -2.24676408e+00 ... -1.22672750e+01\n",
      "    2.00193946e+01  1.09499660e+01]\n",
      "  [ 1.42209153e+01 -1.91857923e+01  2.48776881e+01 ...  5.56027727e+01\n",
      "    6.19856271e+01  1.46409667e+02]]\n",
      "\n",
      " [[ 1.01989807e+02 -5.58257509e+01  1.62687271e+01 ... -2.33124443e+01\n",
      "   -4.33651025e+01  1.57495173e+01]\n",
      "  [-2.19179308e+01 -2.14442584e+00 -2.14748295e+01 ...  4.82785602e+01\n",
      "    4.68286628e+01  3.30122970e+01]\n",
      "  [ 2.41565067e+01 -7.51621263e+01 -5.74864125e+01 ... -3.40940570e+01\n",
      "    3.70079232e+00  9.85102828e+01]\n",
      "  ...\n",
      "  [ 1.67009193e+01 -2.53282023e+01 -7.06572308e+01 ...  9.75390411e+00\n",
      "   -1.33170053e+02  9.05913357e+01]\n",
      "  [-4.39111138e+01  3.40756743e+01 -1.26795516e+02 ... -1.59140495e+01\n",
      "   -1.25905378e+00  1.00797337e+01]\n",
      "  [ 6.32656558e+01  2.78133037e+01 -6.18756715e+01 ... -4.10151403e+01\n",
      "    4.17105855e+01  3.58565726e+01]]]\n"
     ]
    }
   ],
   "source": [
    "from matplotlib import pyplot as plt\n",
    "\n",
    "# max_noise = 0.000000001 # imperceptible a nivel de gráfica\n",
    "max_noise = 60 # perceptible a nivel de gráfica\n",
    "# Se crean muestras parametrizadas de una distribución normal (gaussiana) para generar ruido en la señal\n",
    "noise = np.random.normal(0.0, max_noise, X.shape)\n",
    "\n",
    "print (noise[:50]) # muestra con los primeros 50 datos"
   ],
   "metadata": {
    "collapsed": false,
    "pycharm": {
     "name": "#%%\n"
    }
   }
  },
  {
   "cell_type": "code",
   "execution_count": 98,
   "outputs": [],
   "source": [
    "X_test_old = X_test"
   ],
   "metadata": {
    "collapsed": false,
    "pycharm": {
     "name": "#%%\n"
    }
   }
  },
  {
   "cell_type": "code",
   "execution_count": 146,
   "outputs": [],
   "source": [
    "X_noise = X + noise"
   ],
   "metadata": {
    "collapsed": false,
    "pycharm": {
     "name": "#%%\n"
    }
   }
  },
  {
   "cell_type": "code",
   "execution_count": 115,
   "outputs": [
    {
     "name": "stdout",
     "output_type": "stream",
     "text": [
      "              precision    recall  f1-score   support\n",
      "\n",
      "    NoTarget       0.54      0.53      0.54       593\n",
      "      Target       0.50      0.51      0.50       554\n",
      "\n",
      "    accuracy                           0.52      1147\n",
      "   macro avg       0.52      0.52      0.52      1147\n",
      "weighted avg       0.52      0.52      0.52      1147\n",
      "\n"
     ]
    }
   ],
   "source": [
    "from sklearn.model_selection import StratifiedKFold\n",
    "from sklearn.linear_model import LogisticRegression\n",
    "from mne.decoding import Vectorizer\n",
    "from sklearn.pipeline import make_pipeline\n",
    "from sklearn.svm import SVC\n",
    "from sklearn.preprocessing import MinMaxScaler, StandardScaler\n",
    "from sklearn.metrics import classification_report\n",
    "\n",
    "# Instancia validador cruzado\n",
    "cv = StratifiedKFold(n_splits=10, shuffle=True, random_state=42)\n",
    "\n",
    "# Instancia clasificador\n",
    "#clf = make_pipeline(Vectorizer(), StandardScaler(), LogisticRegression(solver='liblinear', C=1, class_weight=\"balanced\"))\n",
    "\n",
    "# Proceso de validación cruzada\n",
    "preds = np.empty(len(Y))\n",
    "for train, test in cv.split(X_noise, Y):\n",
    "    #clf.fit(X[train], Y[train]) # ajustar\n",
    "    preds[test] = clf.predict(X_noise[test]) #\n",
    "\n",
    "# Info del proceso\n",
    "target_names = ['NoTarget', 'Target']\n",
    "report = classification_report(Y, preds, target_names=target_names)\n",
    "print(report)"
   ],
   "metadata": {
    "collapsed": false,
    "pycharm": {
     "name": "#%%\n"
    }
   }
  },
  {
   "cell_type": "code",
   "execution_count": null,
   "outputs": [],
   "source": [],
   "metadata": {
    "collapsed": false,
    "pycharm": {
     "name": "#%%\n"
    }
   }
  },
  {
   "cell_type": "code",
   "execution_count": null,
   "outputs": [],
   "source": [],
   "metadata": {
    "collapsed": false,
    "pycharm": {
     "name": "#%%\n"
    }
   }
  },
  {
   "cell_type": "code",
   "execution_count": 124,
   "outputs": [
    {
     "data": {
      "text/plain": "array([[[-0.00607122, -0.00792563, -0.00626351, ..., -0.09586221,\n         -0.04329529, -0.01368828],\n        [ 0.40667981,  0.45346471,  0.59110476, ...,  0.63501148,\n          0.57190432,  0.47600092],\n        [-0.7141134 , -0.93781709, -0.98571197, ..., -0.01788325,\n         -0.07345043, -0.31417595],\n        ...,\n        [-0.6225276 , -0.76264099, -0.93415827, ..., -0.39480391,\n         -0.4759363 , -0.52571045],\n        [-0.1144651 , -0.21776891, -0.27530452, ...,  0.35140523,\n          0.21258341,  0.06141631],\n        [-0.35945459, -0.18271518, -0.05851307, ..., -0.29697577,\n         -0.47845268, -0.51292607]],\n\n       [[ 0.00814517, -0.13171996, -0.23511876, ...,  0.29541404,\n          0.25491735,  0.17224839],\n        [-0.46279415, -0.62823862, -0.72327141, ..., -0.10169246,\n         -0.14676999, -0.25234123],\n        [-0.19118119, -0.43835464, -0.56069431, ...,  0.67634258,\n          0.51980291,  0.22665177],\n        ...,\n        [ 0.35911066,  0.17996659,  0.1358882 , ...,  0.88980522,\n          0.84109899,  0.66296702],\n        [ 0.88489578,  0.85018845,  0.84214643, ...,  0.70563457,\n          0.84620068,  0.90324341],\n        [ 0.69117275,  1.01818395,  1.32239033, ...,  0.33310167,\n          0.30534021,  0.39019267]],\n\n       [[-0.22159698, -0.24511323, -0.35389825, ..., -0.6437414 ,\n         -0.50031142, -0.33917349],\n        [ 0.37384901,  0.18493199, -0.14691149, ..., -0.53089128,\n         -0.09174675,  0.25784827],\n        [ 1.06745515,  1.05147698,  1.08238087, ...,  1.10213171,\n          1.14326409,  1.1236103 ],\n        ...,\n        [ 0.4204633 , -0.05730964, -0.50070946, ...,  0.38795985,\n          0.74554119,  0.79388547],\n        [ 0.143604  , -0.20018336, -0.37303464, ...,  0.72548322,\n          0.78669382,  0.60280028],\n        [-0.46909258, -0.9421095 , -1.19157769, ...,  0.46956427,\n          0.47367438,  0.17522734]],\n\n       ...,\n\n       [[ 0.70757029,  0.72977201,  0.79620712, ...,  0.72282773,\n          0.77700454,  0.7506916 ],\n        [ 0.65033119,  0.63995408,  0.59487273, ...,  0.43447341,\n          0.55680173,  0.62334641],\n        [ 0.1520276 ,  0.01135939, -0.13271527, ...,  0.20289649,\n          0.27410707,  0.26746784],\n        ...,\n        [-0.75877179, -0.82759621, -0.8812339 , ..., -0.60591857,\n         -0.61979799, -0.66877232],\n        [-0.34460252, -0.40341706, -0.39139028, ..., -0.13834562,\n         -0.15490616, -0.2246711 ],\n        [-0.11320666,  0.02615177,  0.12802654, ..., -0.54899489,\n         -0.45182468, -0.31162033]],\n\n       [[ 0.32070656,  0.10575429,  0.08734184, ...,  1.25307371,\n          1.08737549,  0.76561798],\n        [ 0.7138493 ,  0.44601007,  0.41547265, ...,  1.63072091,\n          1.55161619,  1.23073324],\n        [ 0.28720782,  0.39399025,  0.53519097, ...,  0.3176095 ,\n          0.25272076,  0.23200518],\n        ...,\n        [ 0.03144163, -0.10667623, -0.114079  , ...,  0.50974578,\n          0.4513723 ,  0.29207543],\n        [ 0.1530293 ,  0.0835807 ,  0.17260546, ...,  0.97725872,\n          0.74933842,  0.45253044],\n        [-0.13831933, -0.32296416, -0.33522185, ...,  0.63439152,\n          0.50515295,  0.23979987]],\n\n       [[ 0.34549058,  0.20532863,  0.09471788, ...,  0.52863709,\n          0.55916211,  0.50278035],\n        [ 0.1175433 ,  0.01579743, -0.0465752 , ...,  0.42374911,\n          0.36224425,  0.26472166],\n        [ 0.22713933,  0.1609441 ,  0.05095115, ..., -0.19617029,\n          0.01368444,  0.17258248],\n        ...,\n        [-0.41674012, -0.21214743,  0.04534485, ..., -0.02972561,\n         -0.28829477, -0.45361975],\n        [-0.24981192, -0.44754136, -0.56128632, ...,  0.38840132,\n          0.26212368,  0.05442751],\n        [ 0.13640883,  0.2785989 ,  0.36912509, ...,  0.13041209,\n          0.02087838,  0.00898602]]])"
     },
     "execution_count": 124,
     "metadata": {},
     "output_type": "execute_result"
    }
   ],
   "source": [
    "X[:50]"
   ],
   "metadata": {
    "collapsed": false,
    "pycharm": {
     "name": "#%%\n"
    }
   }
  },
  {
   "cell_type": "code",
   "execution_count": 125,
   "outputs": [
    {
     "data": {
      "text/plain": "array([[[  0.99322572,  29.41391119,  40.0538963 , ...,  -1.13174455,\n         -14.74042131, -17.27461733],\n        [ 30.44626024,  15.26523495,  -6.92387071, ..., -22.98161313,\n          10.96040373, -13.57461064],\n        [ -5.75866532, -63.51008456,  10.90519738, ..., -37.10770197,\n          14.07636644, -20.0204995 ],\n        ...,\n        [ 13.21271989, -18.87152391, -14.34468651, ...,  11.00117338,\n          44.50952519,  16.58201228],\n        [ 59.75125429,   9.63126468,  50.85311742, ...,   9.52959037,\n          -8.40122145, -26.82614221],\n        [-18.41776841,  -2.07672118, -12.46561235, ...,  -1.01279197,\n          41.08576033,   0.27096004]],\n\n       [[-54.34760409, -30.72704097,   4.62914014, ..., -19.90393964,\n         -10.14599531, -25.44696485],\n        [  3.21444666,   4.86307453,  17.64397366, ..., -12.68265389,\n          19.94083672, -19.427678  ],\n        [-17.71001233, -23.52226437,  31.30115137, ...,  37.12258926,\n           0.15328172, -14.8399654 ],\n        ...,\n        [ 19.98517197,  11.73603432, -16.23498054, ...,  14.41000411,\n          17.71436351,  28.75629229],\n        [ 25.23862286, -14.47487157,   1.63989511, ...,  28.77525315,\n         -32.62934564,   4.2237756 ],\n        [ 32.85598517,   5.82227706, -10.02657865, ...,  26.18543881,\n           2.87118052,  -3.86385799]],\n\n       [[  2.6638971 ,   7.81656153,  21.26776252, ...,  49.461645  ,\n         -14.41057319,  -4.63191753],\n        [  3.77493556,   1.97044   ,  22.58963908, ...,  14.46134082,\n          15.25055486,  36.42569985],\n        [ 45.28517525, -10.08475368,  -0.1247186 , ..., -16.24676861,\n         -28.9430639 ,  39.6662189 ],\n        ...,\n        [-23.56776942, -57.15355266, -36.76476803, ...,  52.03853541,\n          12.79628224,  -1.14347613],\n        [-43.80415149, -11.57092464,   5.49794014, ...,   8.26250382,\n          -3.2839113 ,  47.55227229],\n        [  4.5416008 ,  51.11180139,  -7.41506298, ...,  15.97402279,\n         -15.36241834,   3.61359311]],\n\n       ...,\n\n       [[-40.43432101, -13.38335845,   6.24857171, ..., -17.19732436,\n          42.67979864, -14.09793799],\n        [  1.81328761, -29.75445466,  17.48137821, ...,  19.53213571,\n          13.75246788,  -0.89638847],\n        [ 12.85788007,  14.26176517, -58.0022078 , ...,  15.35282809,\n         -39.84654522,  22.02709816],\n        ...,\n        [ 19.7907083 ,  19.18657823,  24.77357044, ..., -25.54265335,\n          14.4070503 ,  -6.03058432],\n        [  5.18582082, -20.71577238,  17.62914024, ...,  38.74909411,\n         -15.82981923,   1.26459088],\n        [ 16.44854089,   2.72132175,  15.63269174, ...,  29.16598448,\n          -8.61495884,  29.0432717 ]],\n\n       [[-72.86844124,   6.65886612,  62.82679247, ...,   0.78150195,\n           7.59415239,  10.91763263],\n        [ 14.40725041,  11.67717155,  -9.24924323, ...,  15.80557114,\n         -14.89804266,  12.38769241],\n        [ 51.89893832,  31.51196616,   1.6641291 , ..., -30.76615013,\n          16.20580896, -39.5497838 ],\n        ...,\n        [-11.67888372, -16.08649275,  -8.04324132, ...,  -9.61354441,\n          10.25792904,  -1.2585381 ],\n        [ -6.99718791, -15.65054413,  24.18277008, ..., -15.05807645,\n           5.52309373,  -9.91950535],\n        [ 22.94020702, -55.71587407,  18.9014896 , ..., -11.10859157,\n           5.89691113, -29.13834188]],\n\n       [[-43.75326876, -16.52788817, -22.40006791, ...,   4.10928844,\n         -18.91191687, -15.92914757],\n        [-11.42311844,   6.0134749 ,  -7.28432564, ...,  16.92805218,\n         -32.12112824,   5.38760726],\n        [-35.80679893,  36.51326712,   8.37260676, ..., -23.60942313,\n           3.41975399,  29.49549245],\n        ...,\n        [-47.1612744 ,  -6.25519434,  16.15901062, ...,  -3.65482008,\n          21.31357301,  -4.68467816],\n        [ 16.11676671,  -1.52044395, -18.54976521, ..., -23.21654555,\n         -15.84508706, -47.50291761],\n        [-13.26853129,   7.67843862,  -0.92713365, ...,  -8.89746214,\n         -27.25004418, -10.18648652]]])"
     },
     "execution_count": 125,
     "metadata": {},
     "output_type": "execute_result"
    }
   ],
   "source": [
    "X_noise[:50]"
   ],
   "metadata": {
    "collapsed": false,
    "pycharm": {
     "name": "#%%\n"
    }
   }
  },
  {
   "cell_type": "code",
   "execution_count": 149,
   "outputs": [
    {
     "data": {
      "text/plain": "IForest(behaviour='old', bootstrap=False, contamination=0.05,\n    max_features=1.0, max_samples='auto', n_estimators=100, n_jobs=1,\n    random_state=42, verbose=0)"
     },
     "execution_count": 149,
     "metadata": {},
     "output_type": "execute_result"
    }
   ],
   "source": [
    "from pyod.models.ocsvm import OCSVM\n",
    "from pyod.models.iforest import IForest\n",
    "\n",
    "#clf = OCSVM(kernel='rbf',gamma=0.0001, nu=0.3, contamination=contamination_factor)\n",
    "clf = IForest(random_state=42, contamination=contamination_factor)\n",
    "nsamples, nx, ny = X.shape\n",
    "d2_train_dataset = X.reshape((nsamples,nx*ny))\n",
    "\n",
    "X_train_clean, X_test_clean = train_test_split(d2_train_dataset, test_size=0.10, random_state=42, shuffle=False)\n",
    "\n",
    "nsamples, nx, ny = X.shape\n",
    "d2_test_noise = X_noise.reshape((nsamples,nx*ny))\n",
    "\n",
    "X_train_noise, X_test_noise = train_test_split(d2_test_noise, test_size=0.10, random_state=42, shuffle=False)\n",
    "\n",
    "X_train = np.concatenate([X_train_clean, X_train_noise])\n",
    "X_test = np.concatenate([X_test_clean,X_test_noise])\n",
    "\n",
    "# Model training\n",
    "clf.fit(X_train)"
   ],
   "metadata": {
    "collapsed": false,
    "pycharm": {
     "name": "#%%\n"
    }
   }
  },
  {
   "cell_type": "code",
   "execution_count": 152,
   "outputs": [
    {
     "name": "stdout",
     "output_type": "stream",
     "text": [
      "\t [0]      [115]\n"
     ]
    }
   ],
   "source": [
    "pred=clf.predict(X_test_clean)\n",
    "unique_elements, counts_elements = np.unique(pred, return_counts=True)\n",
    "print(\"\\t\",unique_elements,\"    \",counts_elements)"
   ],
   "metadata": {
    "collapsed": false,
    "pycharm": {
     "name": "#%%\n"
    }
   }
  },
  {
   "cell_type": "code",
   "execution_count": 154,
   "outputs": [
    {
     "name": "stdout",
     "output_type": "stream",
     "text": [
      "\t [0 1]      [211  19]\n"
     ]
    }
   ],
   "source": [
    "pred=clf.predict(X_test)\n",
    "unique_elements, counts_elements = np.unique(pred, return_counts=True)\n",
    "print(\"\\t\",unique_elements,\"    \",counts_elements)"
   ],
   "metadata": {
    "collapsed": false,
    "pycharm": {
     "name": "#%%\n"
    }
   }
  },
  {
   "cell_type": "code",
   "execution_count": null,
   "outputs": [],
   "source": [],
   "metadata": {
    "collapsed": false,
    "pycharm": {
     "name": "#%%\n"
    }
   }
  }
 ],
 "metadata": {
  "kernelspec": {
   "display_name": "Python 3",
   "language": "python",
   "name": "python3"
  },
  "language_info": {
   "codemirror_mode": {
    "name": "ipython",
    "version": 2
   },
   "file_extension": ".py",
   "mimetype": "text/x-python",
   "name": "python",
   "nbconvert_exporter": "python",
   "pygments_lexer": "ipython2",
   "version": "2.7.6"
  }
 },
 "nbformat": 4,
 "nbformat_minor": 0
}